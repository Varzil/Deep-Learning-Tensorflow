{
 "cells": [
  {
   "cell_type": "code",
   "execution_count": null,
   "id": "d0f4e8a2-7250-40d1-b21f-82c5d862be9a",
   "metadata": {
    "pycharm": {
     "name": "#%%\n"
    }
   },
   "outputs": [],
   "source": [
    "import tensorflow as tf\n",
    "import numpy as np"
   ]
  },
  {
   "cell_type": "code",
   "execution_count": null,
   "id": "a217c6e7-c86e-4d72-b6e4-35c6784be527",
   "metadata": {
    "pycharm": {
     "name": "#%%\n"
    }
   },
   "outputs": [],
   "source": [
    "def house_model():\n",
    "    ### START CODE HERE\n",
    "    \n",
    "    # Define input and output tensors with the values for houses with 1 up to 6 bedrooms\n",
    "    # Hint: Remember to explictly set the dtype as float\n",
    "    xs = np.array([1.0,2.0,3.0,4.0,5.0,6.0],dtype=float)\n",
    "    ys = np.array([1.0,1.50,2.0,2.50,3.0,3.50],dtype=float)\n",
    "    \n",
    "    # Define your model (should be a model with 1 dense layer and 1 unit)\n",
    "    model = tf.keras.Sequential(tf.keras.layers.Dense(units=1, input_shape=[1]))\n",
    "    # Compile your model\n",
    "    # Set the optimizer to Stochastic Gradient Descent\n",
    "    # and use Mean Squared Error as the loss function\n",
    "    model.compile(optimizer='sgd', loss='mean_squared_error')\n",
    "    \n",
    "    # Train your model for 1000 epochs by feeding the i/o tensors\n",
    "    model.fit(xs, ys, epochs=1000)\n",
    "    ### END CODE HERE\n",
    "    return model"
   ]
  },
  {
   "cell_type": "code",
   "execution_count": null,
   "id": "2cf15a56-9407-43f8-a3f4-f2723e8598dc",
   "metadata": {
    "pycharm": {
     "name": "#%%\n"
    }
   },
   "outputs": [],
   "source": [
    "# Get your trained model\n",
    "model = house_model()"
   ]
  },
  {
   "cell_type": "code",
   "execution_count": null,
   "id": "9db0e430-4337-41d1-b4de-a359efc26f24",
   "metadata": {
    "pycharm": {
     "name": "#%%\n"
    }
   },
   "outputs": [],
   "source": [
    "new_y = 7.0\n",
    "prediction = model.predict([new_y])[0]\n",
    "print(prediction)"
   ]
  },
  {
   "cell_type": "code",
   "execution_count": null,
   "id": "af9fd57d-c6e3-470d-ac2f-2fa5efa9cada",
   "metadata": {
    "pycharm": {
     "name": "#%%\n"
    }
   },
   "outputs": [],
   "source": []
  }
 ],
 "metadata": {
  "kernelspec": {
   "display_name": "Python 3.9 (tensorflow)",
   "language": "python",
   "name": "tensorflow"
  },
  "language_info": {
   "codemirror_mode": {
    "name": "ipython",
    "version": 3
   },
   "file_extension": ".py",
   "mimetype": "text/x-python",
   "name": "python",
   "nbconvert_exporter": "python",
   "pygments_lexer": "ipython3",
   "version": "3.9.13"
  }
 },
 "nbformat": 4,
 "nbformat_minor": 5
}
